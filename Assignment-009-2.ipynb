{
 "cells": [
  {
   "cell_type": "markdown",
   "id": "9fa7d771",
   "metadata": {},
   "source": [
    "Görev 1\n",
    "\n",
    "Write a short Python program that asks the user to enter \n",
    "Celsius temperature (it can be a decimal number), \n",
    "converts the entered temperature into Fahrenheit degree and prints the result.\n",
    "\n"
   ]
  },
  {
   "cell_type": "code",
   "execution_count": 7,
   "id": "f2d5204f",
   "metadata": {},
   "outputs": [
    {
     "name": "stdout",
     "output_type": "stream",
     "text": [
      " C giriniz:\n",
      "25\n",
      "Fahrenheit 77.0\n"
     ]
    }
   ],
   "source": [
    "print(' C giriniz:' ) \n",
    "derece=int(input())\n",
    "Fahrenheit = (derece * 1.8)  + 32\n",
    "\n",
    "print(\"Fahrenheit {}\".format(Fahrenheit))\n"
   ]
  },
  {
   "cell_type": "markdown",
   "id": "60b60a8c",
   "metadata": {},
   "source": [
    "Görev 2\n",
    "Write a short Python program that asks the user to enter a distance \n",
    "(it can be a decimal number) in kilometers, converts the entered distance into miles and prints the result.\n"
   ]
  },
  {
   "cell_type": "code",
   "execution_count": 14,
   "id": "8f5e1394",
   "metadata": {},
   "outputs": [
    {
     "name": "stdout",
     "output_type": "stream",
     "text": [
      "KM giriniz: 150\n",
      "mil: 93.20565\n"
     ]
    }
   ],
   "source": [
    "kilometers = float(input(\"KM giriniz: \"))\n",
    "\n",
    "# conversion factor\n",
    "conv_fac = 0.621371\n",
    "\n",
    "# calculate miles\n",
    "miles = kilometers * conv_fac\n",
    "print('mil: {}'.format(miles))"
   ]
  },
  {
   "cell_type": "code",
   "execution_count": null,
   "id": "c2d2ea1d",
   "metadata": {},
   "outputs": [],
   "source": [
    "\n"
   ]
  },
  {
   "cell_type": "code",
   "execution_count": null,
   "id": "c7844905",
   "metadata": {},
   "outputs": [],
   "source": []
  },
  {
   "cell_type": "code",
   "execution_count": null,
   "id": "1ebaad78",
   "metadata": {},
   "outputs": [],
   "source": []
  },
  {
   "cell_type": "code",
   "execution_count": null,
   "id": "aae60d91",
   "metadata": {},
   "outputs": [],
   "source": []
  },
  {
   "cell_type": "code",
   "execution_count": null,
   "id": "63a34ac0",
   "metadata": {},
   "outputs": [],
   "source": []
  }
 ],
 "metadata": {
  "kernelspec": {
   "display_name": "Python 3",
   "language": "python",
   "name": "python3"
  },
  "language_info": {
   "codemirror_mode": {
    "name": "ipython",
    "version": 3
   },
   "file_extension": ".py",
   "mimetype": "text/x-python",
   "name": "python",
   "nbconvert_exporter": "python",
   "pygments_lexer": "ipython3",
   "version": "3.8.8"
  }
 },
 "nbformat": 4,
 "nbformat_minor": 5
}
